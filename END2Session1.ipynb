{
  "nbformat": 4,
  "nbformat_minor": 0,
  "metadata": {
    "colab": {
      "name": "END2Session1.ipynb",
      "provenance": [],
      "collapsed_sections": [],
      "authorship_tag": "ABX9TyMBcSPCG2SVpi6FvAvmWFqX",
      "include_colab_link": true
    },
    "kernelspec": {
      "name": "python3",
      "display_name": "Python 3"
    },
    "language_info": {
      "name": "python"
    }
  },
  "cells": [
    {
      "cell_type": "markdown",
      "metadata": {
        "id": "view-in-github",
        "colab_type": "text"
      },
      "source": [
        "<a href=\"https://colab.research.google.com/github/gmrammohan15/END2/blob/main/END2Session1.ipynb\" target=\"_parent\"><img src=\"https://colab.research.google.com/assets/colab-badge.svg\" alt=\"Open In Colab\"/></a>"
      ]
    },
    {
      "cell_type": "code",
      "metadata": {
        "colab": {
          "base_uri": "https://localhost:8080/"
        },
        "id": "fwAeGlYRIEhS",
        "outputId": "8b4c28b2-3ed4-4c9c-a515-3dcb055876ef"
      },
      "source": [
        "import torch\n",
        "from torch.autograd import Variable\n",
        "import torch.nn as nn\n",
        "import torch.nn.functional as F\n",
        "import torch.optim as optim\n",
        "import numpy as np\n",
        "import matplotlib.pyplot as plt\n",
        "%matplotlib inline\n",
        "torch.manual_seed(2)"
      ],
      "execution_count": null,
      "outputs": [
        {
          "output_type": "execute_result",
          "data": {
            "text/plain": [
              "<torch._C.Generator at 0x7fb0242cb8d0>"
            ]
          },
          "metadata": {
            "tags": []
          },
          "execution_count": 39
        }
      ]
    },
    {
      "cell_type": "code",
      "metadata": {
        "id": "-xZ3jvXSIMe5"
      },
      "source": [
        "X = torch.Tensor([[0,0], [0,1], [1,0], [1,1]])\n",
        "Y = torch.Tensor([0, 1, 1, 0]).view(-1,1)"
      ],
      "execution_count": null,
      "outputs": []
    },
    {
      "cell_type": "code",
      "metadata": {
        "id": "tyrPNJ-iIZtK"
      },
      "source": [
        "class XOR(nn.Module):\n",
        "    def __init__(self, input_dim = 2, output_dim=1):\n",
        "        super(XOR, self).__init__()\n",
        "        self.lin1 = nn.Linear(input_dim, 4)\n",
        "        self.lin2 = nn.Linear(4, 4)\n",
        "        self.lin3 = nn.Linear(4, 2) \n",
        "        self.lin4 = nn.Linear(2, output_dim)\n",
        "    \n",
        "    def forward(self, x):\n",
        "        x = self.lin1(x)\n",
        "        x = F.tanh(x)\n",
        "        x = self.lin2(x)\n",
        "        x = F.tanh(x)\n",
        "        x = self.lin3(x)\n",
        "        x = F.tanh(x)\n",
        "        x = self.lin4(x)\n",
        "        return x"
      ],
      "execution_count": null,
      "outputs": []
    },
    {
      "cell_type": "code",
      "metadata": {
        "colab": {
          "base_uri": "https://localhost:8080/"
        },
        "id": "mKCrjjIBIdbw",
        "outputId": "c5c13931-92d1-43e5-a3ee-075f6fe34757"
      },
      "source": [
        "model = XOR()\n",
        "print(model)\n",
        "from torchsummary import summary\n",
        "summary(model, (2,2))"
      ],
      "execution_count": null,
      "outputs": [
        {
          "output_type": "stream",
          "text": [
            "XOR(\n",
            "  (lin1): Linear(in_features=2, out_features=4, bias=True)\n",
            "  (lin2): Linear(in_features=4, out_features=4, bias=True)\n",
            "  (lin3): Linear(in_features=4, out_features=2, bias=True)\n",
            "  (lin4): Linear(in_features=2, out_features=1, bias=True)\n",
            ")\n",
            "----------------------------------------------------------------\n",
            "        Layer (type)               Output Shape         Param #\n",
            "================================================================\n",
            "            Linear-1                 [-1, 2, 4]              12\n",
            "            Linear-2                 [-1, 2, 4]              20\n",
            "            Linear-3                 [-1, 2, 2]              10\n",
            "            Linear-4                 [-1, 2, 1]               3\n",
            "================================================================\n",
            "Total params: 45\n",
            "Trainable params: 45\n",
            "Non-trainable params: 0\n",
            "----------------------------------------------------------------\n",
            "Input size (MB): 0.00\n",
            "Forward/backward pass size (MB): 0.00\n",
            "Params size (MB): 0.00\n",
            "Estimated Total Size (MB): 0.00\n",
            "----------------------------------------------------------------\n"
          ],
          "name": "stdout"
        },
        {
          "output_type": "stream",
          "text": [
            "/usr/local/lib/python3.7/dist-packages/torch/nn/functional.py:1698: UserWarning: nn.functional.tanh is deprecated. Use torch.tanh instead.\n",
            "  warnings.warn(\"nn.functional.tanh is deprecated. Use torch.tanh instead.\")\n"
          ],
          "name": "stderr"
        }
      ]
    },
    {
      "cell_type": "code",
      "metadata": {
        "id": "fWHqop1OKmFT"
      },
      "source": [
        "def weights_init(model):\n",
        "    for m in model.modules():\n",
        "        if isinstance(m, nn.Linear):\n",
        "            # initialize the weight tensor, here we use a normal distribution\n",
        "            m.weight.data.normal_(0, 1)\n",
        "\n",
        "weights_init(model)"
      ],
      "execution_count": null,
      "outputs": []
    },
    {
      "cell_type": "code",
      "metadata": {
        "id": "T5EJ2lVYKqFr"
      },
      "source": [
        "loss_func = nn.L1Loss()"
      ],
      "execution_count": null,
      "outputs": []
    },
    {
      "cell_type": "code",
      "metadata": {
        "id": "PwXdQhCoKtSY"
      },
      "source": [
        "optimizer = optim.SGD(model.parameters(), lr=0.02, momentum=0.9)"
      ],
      "execution_count": null,
      "outputs": []
    },
    {
      "cell_type": "code",
      "metadata": {
        "colab": {
          "base_uri": "https://localhost:8080/"
        },
        "id": "4tJ93DYlKwOW",
        "outputId": "b8522e6c-181c-42d8-85f2-83b1172fd458"
      },
      "source": [
        "epochs = 2001\n",
        "steps = X.size(0)\n",
        "for i in range(epochs):\n",
        "    for j in range(steps):\n",
        "        data_point = np.random.randint(X.size(0))\n",
        "        x_var = Variable(X[data_point], requires_grad=False)\n",
        "        y_var = Variable(Y[data_point], requires_grad=False)\n",
        "        \n",
        "        optimizer.zero_grad()\n",
        "        y_hat = model(x_var)\n",
        "        loss = loss_func.forward(y_hat, y_var)\n",
        "        loss.backward()\n",
        "        optimizer.step()\n",
        "        \n",
        "    if i % 50 == 0:\n",
        "        print( \"Epoch: {0}, Loss: {1}, \".format(i, loss.data.numpy()))"
      ],
      "execution_count": null,
      "outputs": [
        {
          "output_type": "stream",
          "text": [
            "/usr/local/lib/python3.7/dist-packages/torch/nn/functional.py:1698: UserWarning: nn.functional.tanh is deprecated. Use torch.tanh instead.\n",
            "  warnings.warn(\"nn.functional.tanh is deprecated. Use torch.tanh instead.\")\n"
          ],
          "name": "stderr"
        },
        {
          "output_type": "stream",
          "text": [
            "Epoch: 0, Loss: 0.13491272926330566, \n",
            "Epoch: 50, Loss: 0.057871878147125244, \n",
            "Epoch: 100, Loss: 0.0014687776565551758, \n",
            "Epoch: 150, Loss: 0.29259467124938965, \n",
            "Epoch: 200, Loss: 0.19316229224205017, \n",
            "Epoch: 250, Loss: 0.20456400513648987, \n",
            "Epoch: 300, Loss: 0.4688081741333008, \n",
            "Epoch: 350, Loss: 0.027196824550628662, \n",
            "Epoch: 400, Loss: 0.012163162231445312, \n",
            "Epoch: 450, Loss: 0.1846790313720703, \n",
            "Epoch: 500, Loss: 0.012105703353881836, \n",
            "Epoch: 550, Loss: 0.030411243438720703, \n",
            "Epoch: 600, Loss: 0.12734392285346985, \n",
            "Epoch: 650, Loss: 0.044062018394470215, \n",
            "Epoch: 700, Loss: 0.038071274757385254, \n",
            "Epoch: 750, Loss: 0.06058764457702637, \n",
            "Epoch: 800, Loss: 0.27946630120277405, \n",
            "Epoch: 850, Loss: 0.1315256953239441, \n",
            "Epoch: 900, Loss: 0.14300981163978577, \n",
            "Epoch: 950, Loss: 0.07948517799377441, \n",
            "Epoch: 1000, Loss: 0.023978590965270996, \n",
            "Epoch: 1050, Loss: 0.06643021106719971, \n",
            "Epoch: 1100, Loss: 0.01542559266090393, \n",
            "Epoch: 1150, Loss: 0.07411658763885498, \n",
            "Epoch: 1200, Loss: 0.08768028020858765, \n",
            "Epoch: 1250, Loss: 0.058663249015808105, \n",
            "Epoch: 1300, Loss: 0.0109938383102417, \n",
            "Epoch: 1350, Loss: 0.10755690932273865, \n",
            "Epoch: 1400, Loss: 0.11651459336280823, \n",
            "Epoch: 1450, Loss: 0.04914766550064087, \n",
            "Epoch: 1500, Loss: 0.03441727161407471, \n",
            "Epoch: 1550, Loss: 0.2060307264328003, \n",
            "Epoch: 1600, Loss: 0.03042614459991455, \n",
            "Epoch: 1650, Loss: 0.05518880486488342, \n",
            "Epoch: 1700, Loss: 0.015491724014282227, \n",
            "Epoch: 1750, Loss: 0.29100489616394043, \n",
            "Epoch: 1800, Loss: 0.021068811416625977, \n",
            "Epoch: 1850, Loss: 0.04257690906524658, \n",
            "Epoch: 1900, Loss: 0.20876151323318481, \n",
            "Epoch: 1950, Loss: 0.10047504305839539, \n",
            "Epoch: 2000, Loss: 0.13305681943893433, \n"
          ],
          "name": "stdout"
        }
      ]
    }
  ]
}